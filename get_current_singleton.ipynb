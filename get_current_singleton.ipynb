{
 "metadata": {
  "language_info": {
   "codemirror_mode": {
    "name": "ipython",
    "version": 3
   },
   "file_extension": ".py",
   "mimetype": "text/x-python",
   "name": "python",
   "nbconvert_exporter": "python",
   "pygments_lexer": "ipython3",
   "version": "3.7.1-final"
  },
  "orig_nbformat": 2,
  "kernelspec": {
   "name": "Python 3.7.1 64-bit",
   "display_name": "Python 3.7.1 64-bit",
   "metadata": {
    "interpreter": {
     "hash": "e4c5865d72a8d5520c69811e63b6b03738d7e6dede23993572f7b872fa9ced2f"
    }
   }
  }
 },
 "nbformat": 4,
 "nbformat_minor": 2,
 "cells": [
  {
   "cell_type": "code",
   "execution_count": 1,
   "metadata": {},
   "outputs": [],
   "source": [
    "class Singleton(type):\n",
    "    _instances = []\n",
    "    def __call__(cls, *args, **kwargs):\n",
    "        if len(cls._instances) == 0:\n",
    "            cls._instances.append(super(Singleton, cls).__call__(*args, **kwargs))\n",
    "        return cls._instances[0]"
   ]
  },
  {
   "cell_type": "code",
   "execution_count": 2,
   "metadata": {},
   "outputs": [],
   "source": [
    "class Parent(metaclass=Singleton):\n",
    "    @classmethod\n",
    "    def current_child(cls):\n",
    "        if len(cls._instances) != 0:\n",
    "            return type(cls._instances[0])\n",
    "    \n",
    "    def __init__(self):\n",
    "        self.str = 'Parent'\n",
    "\n",
    "class Child1(Parent):\n",
    "    def __init__(self):\n",
    "        self.str = 'Child1'\n",
    "\n",
    "class Child2(Parent):\n",
    "    def __init__(self):\n",
    "        self.str = 'Child2'"
   ]
  },
  {
   "cell_type": "code",
   "execution_count": 3,
   "metadata": {
    "tags": []
   },
   "outputs": [],
   "source": [
    "a = Child2()\n",
    "b = Child1()\n",
    "# a is b\n",
    "# a = Parent.current_child()"
   ]
  },
  {
   "cell_type": "code",
   "execution_count": 4,
   "metadata": {},
   "outputs": [],
   "source": [
    "c = get_current_instance()"
   ]
  },
  {
   "cell_type": "code",
   "execution_count": 5,
   "metadata": {},
   "outputs": [
    {
     "output_type": "execute_result",
     "data": {
      "text/plain": "&#39;child2&#39;"
     },
     "metadata": {},
     "execution_count": 5
    }
   ],
   "source": [
    "c()._str"
   ]
  },
  {
   "cell_type": "code",
   "execution_count": 4,
   "metadata": {
    "tags": []
   },
   "outputs": [
    {
     "output_type": "error",
     "ename": "AttributeError",
     "evalue": "type object &#39;Parent&#39; has no attribute &#39;_instance&#39;",
     "traceback": [
      "\u001b[1;31m---------------------------------------------------------------------------\u001b[0m",
      "\u001b[1;31mAttributeError\u001b[0m                            Traceback (most recent call last)",
      "\u001b[1;32m&lt;ipython-input-4-21f45334a49a&gt;\u001b[0m in \u001b[0;36m&lt;module&gt;\u001b[1;34m\u001b[0m\n\u001b[1;32m----&gt; 1\u001b[1;33m \u001b[0mParent\u001b[0m\u001b[1;33m.\u001b[0m\u001b[0m_instance\u001b[0m \u001b[1;32mis\u001b[0m \u001b[0mChild2\u001b[0m\u001b[1;33m.\u001b[0m\u001b[0m_instance\u001b[0m\u001b[1;33m\u001b[0m\u001b[1;33m\u001b[0m\u001b[0m\n\u001b[0m",
      "\u001b[1;31mAttributeError\u001b[0m: type object &#39;Parent&#39; has no attribute &#39;_instance&#39;"
     ]
    }
   ],
   "source": [
    "Parent._instance is Child2._instance"
   ]
  },
  {
   "cell_type": "code",
   "execution_count": 4,
   "metadata": {},
   "outputs": [
    {
     "output_type": "execute_result",
     "data": {
      "text/plain": "&#39;Child2&#39;"
     },
     "metadata": {},
     "execution_count": 4
    }
   ],
   "source": [
    "c = Parent.current_child()\n",
    "c().str"
   ]
  }
 ]
}